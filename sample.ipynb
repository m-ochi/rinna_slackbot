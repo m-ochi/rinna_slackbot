{
 "cells": [
  {
   "cell_type": "code",
   "execution_count": 1,
   "id": "incorporated-affect",
   "metadata": {},
   "outputs": [
    {
     "data": {
      "application/vnd.jupyter.widget-view+json": {
       "model_id": "d0d2ed39c4694d88b4f663c60a2e8291",
       "version_major": 2,
       "version_minor": 0
      },
      "text/plain": [
       "Downloading:   0%|          | 0.00/806k [00:00<?, ?B/s]"
      ]
     },
     "metadata": {},
     "output_type": "display_data"
    },
    {
     "data": {
      "application/vnd.jupyter.widget-view+json": {
       "model_id": "d2ddc1a1848f4521878a376599ee3cf0",
       "version_major": 2,
       "version_minor": 0
      },
      "text/plain": [
       "Downloading:   0%|          | 0.00/153 [00:00<?, ?B/s]"
      ]
     },
     "metadata": {},
     "output_type": "display_data"
    },
    {
     "data": {
      "application/vnd.jupyter.widget-view+json": {
       "model_id": "576942589e274bf89453f687a9a45851",
       "version_major": 2,
       "version_minor": 0
      },
      "text/plain": [
       "Downloading:   0%|          | 0.00/225 [00:00<?, ?B/s]"
      ]
     },
     "metadata": {},
     "output_type": "display_data"
    },
    {
     "data": {
      "application/vnd.jupyter.widget-view+json": {
       "model_id": "5f3adfa771cc4b47aade907fc8cebaa4",
       "version_major": 2,
       "version_minor": 0
      },
      "text/plain": [
       "Downloading:   0%|          | 0.00/654 [00:00<?, ?B/s]"
      ]
     },
     "metadata": {},
     "output_type": "display_data"
    },
    {
     "data": {
      "application/vnd.jupyter.widget-view+json": {
       "model_id": "c192baf9535b4ecabed702d3b69e93d3",
       "version_major": 2,
       "version_minor": 0
      },
      "text/plain": [
       "Downloading:   0%|          | 0.00/1.37G [00:00<?, ?B/s]"
      ]
     },
     "metadata": {},
     "output_type": "display_data"
    }
   ],
   "source": [
    "from transformers import T5Tokenizer, AutoModelForCausalLM\n",
    "model_name = 'rinna/japanese-gpt2-medium'\n",
    " \n",
    "tokenizer = T5Tokenizer.from_pretrained(model_name)\n",
    " \n",
    "model = AutoModelForCausalLM.from_pretrained(model_name)"
   ]
  },
  {
   "cell_type": "code",
   "execution_count": 2,
   "id": "architectural-franchise",
   "metadata": {},
   "outputs": [
    {
     "data": {
      "text/plain": [
       "tensor([[    9, 10365,  8017,  1589, 29094,    10,   150,   206,    90,     7,\n",
       "          2109,     2]])"
      ]
     },
     "execution_count": 2,
     "metadata": {},
     "output_type": "execute_result"
    }
   ],
   "source": [
    "input_text = \"誰も到達していない人工知能の高みへ、ともに\"\n",
    " \n",
    "input_ids = tokenizer.encode(\n",
    "    input_text,\n",
    "    return_tensors=\"pt\"\n",
    ")\n",
    "input_ids"
   ]
  },
  {
   "cell_type": "code",
   "execution_count": 3,
   "id": "bright-remark",
   "metadata": {},
   "outputs": [
    {
     "name": "stderr",
     "output_type": "stream",
     "text": [
      "Setting `pad_token_id` to `eos_token_id`:2 for open-end generation.\n"
     ]
    },
    {
     "data": {
      "text/plain": [
       "tensor([[    9, 10365,  8017,  1589, 29094,    10,   150,   206,    90,     7,\n",
       "          2109,     2,     7,     9, 11484,  3802,   543,     9,    45,     7,\n",
       "             9,  2593,   123, 12393,    10, 13078,    30,     9,  2446,  5094,\n",
       "             9,  4839,    12,     9,  6722,  5363,   543,     9,  5388,  4176,\n",
       "         29246,   543,  3502, 12393,  1234,   220, 16003,     9,  3199,  1490,\n",
       "            12,     7,     9,  9620, 21453, 20033,     9, 19518,     7,     9,\n",
       "            11,    58,    57,  4663,  2030,     9,    12,     9, 12767, 16340,\n",
       "          2478,    95,     9,     7,     9,  8268,    12, 27541,   969,     9,\n",
       "         11270,  3610,  1089,   651, 10549,    19,     9,  5184,    18,   134,\n",
       "         15486,   131,     9,  4562,     9,   774,     8,     9,   913,  1184,\n",
       "          1677,    19,     7,   183,    26,  3610,    10,  5184, 17591,  4914,\n",
       "           154,  1315,  2874, 19433,     8,     9,   567,    19, 26081,    20,\n",
       "             7],\n",
       "        [    9, 10365,  8017,  1589, 29094,    10,   150,   206,    90,     7,\n",
       "          2109,     2, 25685,   101, 24438,     8,     9,  5626,     9, 13737,\n",
       "          5899,  3400, 14912,  4764,   186, 17898, 10373,    76,  9099,    16,\n",
       "          1240,  5763, 10449,  5363,     8,  8840,  1155,     7, 11021,   220,\n",
       "         11645, 19120,     8,  9099,    16,    11, 16630,    30,  4286,  1151,\n",
       "             7,  1129,  4286,    26,  6343,  4286,    17, 22819, 11988,     7,\n",
       "         17314,  1622,    18, 19239,   314,   203,  5363,     8,    48,  1108,\n",
       "            16,  3571,    10, 17490,    18,     7, 21369,   478,   709,    90,\n",
       "          1944, 19753,     7,  1393,  1392,    20,  4221,    18,  2449, 23741,\n",
       "          9438,  8335,  6726,  1035, 22525, 19433,     8,     9,  5626,     9,\n",
       "         13737, 29931,  4764,  2172,  3330,  4764,  9728,    76,     9,  7392,\n",
       "          1158,   475,    23, 22412,    21,    12,  4994,  1069,  2767,     8,\n",
       "             9],\n",
       "        [    9, 10365,  8017,  1589, 29094,    10,   150,   206,    90,     7,\n",
       "          2109,     2,  3564,   101,  1822, 24438,     8,     9,  2069,  4684,\n",
       "         15250,    10,  4373,  5973,    60,    10,  5213,  2237,   435,    23,\n",
       "          2230,  8716,  2237,    21,     8,   917,    12,    93,  2230,  8716,\n",
       "          2237,    21,    38,   899,    16,    24,   127, 11508,    18, 18214,\n",
       "            12,  1037,   124,  4684,    23, 23868,  3786,    21,    10,  5213,\n",
       "            18,  1006,  5351,    17,  2302,  1477,   655, 12851,   582,  9497,\n",
       "            35,  1710, 10541,  5363,     8,     9, 15337,    28, 20907,  1798,\n",
       "          1026,     7,  4684, 14493,    11,   899,    26,    47,  3588,    24,\n",
       "            63, 17850,   572,    23,  1364,  1114,    21,  1856, 19433,     8,\n",
       "             9, 11507,    10,    11,     7, 18660, 15961,  5575,  4563,  1932,\n",
       "          3444,  1174,  5213,  1993,    12,   134,   229,     8, 17405, 11136,\n",
       "         11507]])"
      ]
     },
     "execution_count": 3,
     "metadata": {},
     "output_type": "execute_result"
    }
   ],
   "source": [
    "length = 100\n",
    "temperature = 1.0\n",
    "k = 0\n",
    "p = 0.9\n",
    "repetition_penalty = 1.0\n",
    "num_return_sequences = 3\n",
    " \n",
    "output_sequences = model.generate(\n",
    "    input_ids=input_ids,\n",
    "    max_length=length + len(input_text),\n",
    "    temperature=temperature,\n",
    "    top_k=k,\n",
    "    top_p=p,\n",
    "    repetition_penalty=repetition_penalty,\n",
    "    do_sample=True,\n",
    "    num_return_sequences=num_return_sequences,\n",
    ")\n",
    " \n",
    "output_sequences"
   ]
  },
  {
   "cell_type": "code",
   "execution_count": 4,
   "id": "loved-grammar",
   "metadata": {},
   "outputs": [
    {
     "name": "stdout",
     "output_type": "stream",
     "text": [
      "=== GENERATED SEQUENCE 1 ===\n",
      "=== GENERATED SEQUENCE 2 ===\n",
      "=== GENERATED SEQUENCE 3 ===\n"
     ]
    }
   ],
   "source": [
    "generated_sequences = []\n",
    " \n",
    "for generated_sequence_idx, generated_sequence in enumerate(output_sequences):\n",
    "    print(f\"=== GENERATED SEQUENCE {generated_sequence_idx + 1} ===\")\n",
    "    generated_sequence = generated_sequence.tolist()\n",
    " \n",
    "    # Decode text\n",
    "    text = tokenizer.decode(generated_sequence, clean_up_tokenization_spaces=True)\n",
    " \n",
    "    total_sequence = (\n",
    "        input_text + text[len(tokenizer.decode(input_ids[0], clean_up_tokenization_spaces=True)) :]\n",
    "    )\n",
    " \n",
    "    generated_sequences.append(total_sequence)"
   ]
  },
  {
   "cell_type": "code",
   "execution_count": 6,
   "id": "korean-associate",
   "metadata": {},
   "outputs": [
    {
     "data": {
      "text/plain": [
       "'誰も到達していない人工知能の高みへ、ともに 創り出しましょう。 コンピュータウイルスが原因のあらゆるウィルスの感染対策を行う「ネットワーク脅威対策」。ところが、「ネットワーク脅威対策」では今年1月に世間を騒がせていたウイルス「mirai」の感染を未然に防ぐことが出来なかったことを謝罪する報道がなされました。 厚生労働省から公表された資料によると、ウイルス感染症は今や10人に1人がかかるとされる「国民病」となっています。 深刻なのは、私が知る限り毎日1000件以上の感染報告がされていること。もちろんそれほど深刻な'"
      ]
     },
     "execution_count": 6,
     "metadata": {},
     "output_type": "execute_result"
    }
   ],
   "source": [
    "total_sequence"
   ]
  },
  {
   "cell_type": "code",
   "execution_count": null,
   "id": "tight-tsunami",
   "metadata": {},
   "outputs": [],
   "source": []
  }
 ],
 "metadata": {
  "kernelspec": {
   "display_name": "Python 3",
   "language": "python",
   "name": "python3"
  },
  "language_info": {
   "codemirror_mode": {
    "name": "ipython",
    "version": 3
   },
   "file_extension": ".py",
   "mimetype": "text/x-python",
   "name": "python",
   "nbconvert_exporter": "python",
   "pygments_lexer": "ipython3",
   "version": "3.8.5"
  }
 },
 "nbformat": 4,
 "nbformat_minor": 5
}
